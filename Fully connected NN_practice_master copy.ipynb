{
 "cells": [
  {
   "cell_type": "markdown",
   "metadata": {},
   "source": [
    "# Basics of simple fully connected neural network "
   ]
  },
  {
   "cell_type": "code",
   "execution_count": 1,
   "metadata": {},
   "outputs": [
    {
     "name": "stderr",
     "output_type": "stream",
     "text": [
      "C:\\Users\\Alvin\\Anaconda3\\lib\\site-packages\\h5py\\__init__.py:36: FutureWarning: Conversion of the second argument of issubdtype from `float` to `np.floating` is deprecated. In future, it will be treated as `np.float64 == np.dtype(float).type`.\n",
      "  from ._conv import register_converters as _register_converters\n",
      "Using TensorFlow backend.\n"
     ]
    }
   ],
   "source": [
    "# import required libraries\n",
    "import pandas as pd\n",
    "import numpy as np\n",
    "import keras\n",
    "import matplotlib.pyplot as plt\n",
    "from keras.models import Sequential\n",
    "from keras.layers import Dense\n",
    "from sklearn.model_selection import train_test_split\n",
    "from sklearn.preprocessing import LabelEncoder\n",
    "from sklearn.preprocessing import StandardScaler\n",
    "from sklearn.metrics import accuracy_score\n",
    "# LabelEncoder is important for neural network analysis for converting output labels array\n",
    "# into one hot encoded matrix of K columns where K is the unqiue number of categories\n",
    "%matplotlib inline"
   ]
  },
  {
   "cell_type": "code",
   "execution_count": 2,
   "metadata": {},
   "outputs": [
    {
     "data": {
      "text/html": [
       "<div>\n",
       "<style scoped>\n",
       "    .dataframe tbody tr th:only-of-type {\n",
       "        vertical-align: middle;\n",
       "    }\n",
       "\n",
       "    .dataframe tbody tr th {\n",
       "        vertical-align: top;\n",
       "    }\n",
       "\n",
       "    .dataframe thead th {\n",
       "        text-align: right;\n",
       "    }\n",
       "</style>\n",
       "<table border=\"1\" class=\"dataframe\">\n",
       "  <thead>\n",
       "    <tr style=\"text-align: right;\">\n",
       "      <th></th>\n",
       "      <th>fixed acidity</th>\n",
       "      <th>volatile acidity</th>\n",
       "      <th>citric acid</th>\n",
       "      <th>residual sugar</th>\n",
       "      <th>chlorides</th>\n",
       "      <th>free sulfur dioxide</th>\n",
       "      <th>total sulfur dioxide</th>\n",
       "      <th>density</th>\n",
       "      <th>pH</th>\n",
       "      <th>sulphates</th>\n",
       "      <th>alcohol</th>\n",
       "      <th>quality</th>\n",
       "    </tr>\n",
       "  </thead>\n",
       "  <tbody>\n",
       "    <tr>\n",
       "      <th>0</th>\n",
       "      <td>7.4</td>\n",
       "      <td>0.70</td>\n",
       "      <td>0.00</td>\n",
       "      <td>1.9</td>\n",
       "      <td>0.076</td>\n",
       "      <td>11.0</td>\n",
       "      <td>34.0</td>\n",
       "      <td>0.9978</td>\n",
       "      <td>3.51</td>\n",
       "      <td>0.56</td>\n",
       "      <td>9.4</td>\n",
       "      <td>5</td>\n",
       "    </tr>\n",
       "    <tr>\n",
       "      <th>1</th>\n",
       "      <td>7.8</td>\n",
       "      <td>0.88</td>\n",
       "      <td>0.00</td>\n",
       "      <td>2.6</td>\n",
       "      <td>0.098</td>\n",
       "      <td>25.0</td>\n",
       "      <td>67.0</td>\n",
       "      <td>0.9968</td>\n",
       "      <td>3.20</td>\n",
       "      <td>0.68</td>\n",
       "      <td>9.8</td>\n",
       "      <td>5</td>\n",
       "    </tr>\n",
       "    <tr>\n",
       "      <th>2</th>\n",
       "      <td>7.8</td>\n",
       "      <td>0.76</td>\n",
       "      <td>0.04</td>\n",
       "      <td>2.3</td>\n",
       "      <td>0.092</td>\n",
       "      <td>15.0</td>\n",
       "      <td>54.0</td>\n",
       "      <td>0.9970</td>\n",
       "      <td>3.26</td>\n",
       "      <td>0.65</td>\n",
       "      <td>9.8</td>\n",
       "      <td>5</td>\n",
       "    </tr>\n",
       "    <tr>\n",
       "      <th>3</th>\n",
       "      <td>11.2</td>\n",
       "      <td>0.28</td>\n",
       "      <td>0.56</td>\n",
       "      <td>1.9</td>\n",
       "      <td>0.075</td>\n",
       "      <td>17.0</td>\n",
       "      <td>60.0</td>\n",
       "      <td>0.9980</td>\n",
       "      <td>3.16</td>\n",
       "      <td>0.58</td>\n",
       "      <td>9.8</td>\n",
       "      <td>6</td>\n",
       "    </tr>\n",
       "    <tr>\n",
       "      <th>4</th>\n",
       "      <td>7.4</td>\n",
       "      <td>0.70</td>\n",
       "      <td>0.00</td>\n",
       "      <td>1.9</td>\n",
       "      <td>0.076</td>\n",
       "      <td>11.0</td>\n",
       "      <td>34.0</td>\n",
       "      <td>0.9978</td>\n",
       "      <td>3.51</td>\n",
       "      <td>0.56</td>\n",
       "      <td>9.4</td>\n",
       "      <td>5</td>\n",
       "    </tr>\n",
       "  </tbody>\n",
       "</table>\n",
       "</div>"
      ],
      "text/plain": [
       "   fixed acidity  volatile acidity  citric acid  residual sugar  chlorides  \\\n",
       "0            7.4              0.70         0.00             1.9      0.076   \n",
       "1            7.8              0.88         0.00             2.6      0.098   \n",
       "2            7.8              0.76         0.04             2.3      0.092   \n",
       "3           11.2              0.28         0.56             1.9      0.075   \n",
       "4            7.4              0.70         0.00             1.9      0.076   \n",
       "\n",
       "   free sulfur dioxide  total sulfur dioxide  density    pH  sulphates  \\\n",
       "0                 11.0                  34.0   0.9978  3.51       0.56   \n",
       "1                 25.0                  67.0   0.9968  3.20       0.68   \n",
       "2                 15.0                  54.0   0.9970  3.26       0.65   \n",
       "3                 17.0                  60.0   0.9980  3.16       0.58   \n",
       "4                 11.0                  34.0   0.9978  3.51       0.56   \n",
       "\n",
       "   alcohol  quality  \n",
       "0      9.4        5  \n",
       "1      9.8        5  \n",
       "2      9.8        5  \n",
       "3      9.8        6  \n",
       "4      9.4        5  "
      ]
     },
     "execution_count": 2,
     "metadata": {},
     "output_type": "execute_result"
    }
   ],
   "source": [
    "# read in data\n",
    "# dataset_redwine = pd.read_csv('data/redwine_data.csv',sep=';')\n",
    "dataset_redwine = pd.read_csv('redwine_fully_NN.csv',sep=';')\n",
    "dataset_redwine.head()\n"
   ]
  },
  {
   "cell_type": "code",
   "execution_count": 3,
   "metadata": {},
   "outputs": [],
   "source": [
    "# data preprocessing\n",
    "input_features = dataset_redwine.iloc[:,0:11].values\n",
    "targets = dataset_redwine.iloc[:,11].values\n",
    "encoder = LabelEncoder()\n",
    "y_transformed = encoder.fit_transform(targets) # convert labels into a series of integers\n",
    "exact_labels = pd.get_dummies(y_transformed).values # convert series of integers into one hot \n",
    "# encoded matrix"
   ]
  },
  {
   "cell_type": "code",
   "execution_count": 4,
   "metadata": {},
   "outputs": [],
   "source": [
    "# split data into training and testing dataset\n",
    "train_data,test_data,train_target,test_target = train_test_split(input_features,\n",
    "                                                                 exact_labels,\n",
    "                                                                 test_size = 0.2,\n",
    "                                                                 random_state = 0)"
   ]
  },
  {
   "cell_type": "code",
   "execution_count": 5,
   "metadata": {},
   "outputs": [],
   "source": [
    "# scaling the dataset for ANN modelling\n",
    "features_scaler = StandardScaler()\n",
    "scaled_train_data = features_scaler.fit_transform(train_data)\n",
    "scaled_test_data = features_scaler.transform(test_data)"
   ]
  },
  {
   "cell_type": "code",
   "execution_count": 6,
   "metadata": {},
   "outputs": [],
   "source": [
    "# setting up fully connected ANN model\n",
    "model_ANN = Sequential() # initialize model\n",
    "input_layer = Dense(units = 11, kernel_initializer = 'uniform',\n",
    "                   activation = 'relu', input_dim = 11) # input layer, kernel_initializer set \n",
    "# the weights; uniform -> uniform distribution, activation function of relu -> rectifier function\n",
    "model_ANN.add(input_layer)\n",
    "\n",
    "hidden_layer1 = Dense(units = 9, kernel_initializer = 'uniform',\n",
    "                   activation = 'relu') # first hidden layer\n",
    "model_ANN.add(hidden_layer1)\n",
    "\n",
    "hidden_layer2 = Dense(units = 7, kernel_initializer = 'uniform',\n",
    "                   activation = 'relu') # second hidden layer\n",
    "model_ANN.add(hidden_layer2)\n",
    "\n",
    "output_layer = Dense(units = 6, kernel_initializer = 'uniform',\n",
    "                    activation = 'softmax') # softmax is used for multiple categories while \n",
    "# sigmoid is for binary output\n",
    "model_ANN.add(output_layer)"
   ]
  },
  {
   "cell_type": "code",
   "execution_count": 7,
   "metadata": {},
   "outputs": [
    {
     "name": "stdout",
     "output_type": "stream",
     "text": [
      "_________________________________________________________________\n",
      "Layer (type)                 Output Shape              Param #   \n",
      "=================================================================\n",
      "dense_1 (Dense)              (None, 11)                132       \n",
      "_________________________________________________________________\n",
      "dense_2 (Dense)              (None, 9)                 108       \n",
      "_________________________________________________________________\n",
      "dense_3 (Dense)              (None, 7)                 70        \n",
      "_________________________________________________________________\n",
      "dense_4 (Dense)              (None, 6)                 48        \n",
      "=================================================================\n",
      "Total params: 358\n",
      "Trainable params: 358\n",
      "Non-trainable params: 0\n",
      "_________________________________________________________________\n"
     ]
    }
   ],
   "source": [
    "# compile ANN model\n",
    "model_ANN.compile(optimizer = 'adam', # see more about optimization function \n",
    "                                      # https://keras.io/optimizers/\n",
    "                 loss = 'categorical_crossentropy', # see more about cost functions\n",
    "                                                    # https://keras.io/losses/\n",
    "                 metrics = ['accuracy'])\n",
    "model_ANN.summary()"
   ]
  },
  {
   "cell_type": "code",
   "execution_count": 8,
   "metadata": {},
   "outputs": [
    {
     "name": "stdout",
     "output_type": "stream",
     "text": [
      "Train on 1279 samples, validate on 320 samples\n",
      "Epoch 1/10\n",
      "1279/1279 [==============================] - 3s 2ms/step - loss: 1.2449 - acc: 0.4246 - val_loss: 1.1002 - val_acc: 0.4875\n",
      "Epoch 2/10\n",
      "1279/1279 [==============================] - 2s 2ms/step - loss: 1.1036 - acc: 0.5098 - val_loss: 1.0716 - val_acc: 0.5750\n",
      "Epoch 3/10\n",
      "1279/1279 [==============================] - 2s 2ms/step - loss: 1.0768 - acc: 0.5465 - val_loss: 1.0514 - val_acc: 0.6094\n",
      "Epoch 4/10\n",
      "1279/1279 [==============================] - 3s 2ms/step - loss: 1.0573 - acc: 0.5606 - val_loss: 1.0384 - val_acc: 0.6062\n",
      "Epoch 5/10\n",
      "1279/1279 [==============================] - 2s 2ms/step - loss: 1.0400 - acc: 0.5715 - val_loss: 1.0246 - val_acc: 0.6281\n",
      "Epoch 6/10\n",
      "1279/1279 [==============================] - 2s 2ms/step - loss: 1.0256 - acc: 0.5629 - val_loss: 1.0132 - val_acc: 0.6156\n",
      "Epoch 7/10\n",
      "1279/1279 [==============================] - 3s 2ms/step - loss: 1.0130 - acc: 0.5622 - val_loss: 1.0167 - val_acc: 0.6250\n",
      "Epoch 8/10\n",
      "1279/1279 [==============================] - 2s 2ms/step - loss: 1.0034 - acc: 0.5692 - val_loss: 1.0007 - val_acc: 0.6312\n",
      "Epoch 9/10\n",
      "1279/1279 [==============================] - 2s 2ms/step - loss: 0.9942 - acc: 0.5786 - val_loss: 0.9862 - val_acc: 0.6188\n",
      "Epoch 10/10\n",
      "1279/1279 [==============================] - 2s 2ms/step - loss: 0.9892 - acc: 0.5903 - val_loss: 0.9845 - val_acc: 0.6125\n"
     ]
    },
    {
     "data": {
      "text/plain": [
       "<keras.callbacks.History at 0x773be1c1d0>"
      ]
     },
     "execution_count": 8,
     "metadata": {},
     "output_type": "execute_result"
    }
   ],
   "source": [
    "# fit ANN model\n",
    "model_ANN.fit(scaled_train_data,\n",
    "              train_target,\n",
    "              batch_size = 1,\n",
    "              epochs = 10,\n",
    "              verbose = 1,\n",
    "              validation_data = (scaled_test_data,test_target))"
   ]
  },
  {
   "cell_type": "code",
   "execution_count": 9,
   "metadata": {},
   "outputs": [
    {
     "name": "stdout",
     "output_type": "stream",
     "text": [
      "The average accuracy of your fully-connected neural network model is 61.3%.\n"
     ]
    }
   ],
   "source": [
    "# test model's accuracy on test dataset\n",
    "pred_data = model_ANN.predict(scaled_test_data)\n",
    "pred_data = np.argmax(pred_data,axis = 1)\n",
    "test_target = np.argmax(test_target, axis =1)\n",
    "score = accuracy_score(test_target,pred_data) * 100\n",
    "score = round(score,1)\n",
    "print('The average accuracy of your fully-connected neural network model is ' + str(score) + '%.')"
   ]
  }
 ],
 "metadata": {
  "kernelspec": {
   "display_name": "Python 3",
   "language": "python",
   "name": "python3"
  },
  "language_info": {
   "codemirror_mode": {
    "name": "ipython",
    "version": 3
   },
   "file_extension": ".py",
   "mimetype": "text/x-python",
   "name": "python",
   "nbconvert_exporter": "python",
   "pygments_lexer": "ipython3",
   "version": "3.6.5"
  }
 },
 "nbformat": 4,
 "nbformat_minor": 2
}
