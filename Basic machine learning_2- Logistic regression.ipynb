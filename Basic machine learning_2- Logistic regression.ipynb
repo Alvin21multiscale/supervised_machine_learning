{
 "cells": [
  {
   "cell_type": "markdown",
   "metadata": {},
   "source": [
    "# Basic machine learning_2: Logistic regression of lower- and upper-case alphabets (binary class)"
   ]
  },
  {
   "cell_type": "code",
   "execution_count": null,
   "metadata": {},
   "outputs": [],
   "source": [
    "# importing relevant packages and libraries associated with python\n",
    "import pandas as pd\n",
    "import numpy as np\n",
    "import random \n",
    "import string\n",
    "from sklearn.metrics import mean_squared_error\n",
    "from math import sqrt\n",
    "from sklearn.linear_model import LogisticRegression\n",
    "from sklearn.model_selection import train_test_split\n",
    "from sklearn.metrics import r2_score\n",
    "\n",
    "# creating arbitrary dataset using random library\n",
    "list_size = random.randint(100,1000)\n",
    "alphabets_lower_upper = string.ascii_letters # import both uppercase and lowercase alphabets\n",
    "x_input = [random.choice(alphabets_lower_upper) for count in range(list_size)] # create arbitrary list \n",
    "                                                                                        # of uppercase or lowercase letters\n",
    "y_target = [0 if item.isupper() else 1 for item in x_input] # y-value is 0 if letter is uppercase, else y-value\n",
    "                                                                      # is 1 \n",
    "x_input_binarized = [ord(item) for item in x_input]\n",
    "print(x_input_binarized)\n",
    "print('')\n",
    "print(y_target)\n",
    "\n",
    "# splitting raw dataset into training and validation dataset\n",
    "x_train, x_validate, y_train, y_validate = train_test_split(x_input_binarized,\n",
    "                                                            y_target,\n",
    "                                                            test_size = 0.2,\n",
    "                                                            random_state = None)\n",
    "y_actual_validate = tuple(y_validate)\n",
    "# converting training and validation dataset into numpy arrays, and reshaping\n",
    "x_train = (np.array(x_train)).reshape(len(x_train),-1)\n",
    "y_train = (np.array(y_train)).reshape(len(y_train),-1)\n",
    "x_validate = (np.array(x_validate)).reshape(len(x_validate),-1)\n",
    "y_validate = (np.array(y_validate)).reshape(len(y_validate),-1)\n",
    "\n",
    "# creating logistic model regression models for bilinear problem\n",
    "logistic_model = LogisticRegression(solver='newton-cg', \n",
    "                                    max_iter=5000\n",
    "                                    ) # other solvers include ‘lbfgs’, ‘newton-cg’, \n",
    "                                                      # ‘liblinear’, ‘sag’, ‘saga’\n",
    "train_result = logistic_model.fit(x_train,y_train)\n",
    "pred_result = logistic_model.predict(x_validate)\n",
    "\n",
    "# create dataframe to actual and predicted value\n",
    "table_results = pd.DataFrame(columns=['Actual y_target','Predicted y_target'])\n",
    "table_results['Actual y_target'] = y_actual_validate\n",
    "table_results['Predicted y_target'] = pred_result\n",
    "table_results # 100% accuracy due to simplified case for logistic regression"
   ]
  }
 ],
 "metadata": {
  "kernelspec": {
   "display_name": "Python 3",
   "language": "python",
   "name": "python3"
  },
  "language_info": {
   "codemirror_mode": {
    "name": "ipython",
    "version": 3
   },
   "file_extension": ".py",
   "mimetype": "text/x-python",
   "name": "python",
   "nbconvert_exporter": "python",
   "pygments_lexer": "ipython3",
   "version": "3.7.1"
  }
 },
 "nbformat": 4,
 "nbformat_minor": 2
}
