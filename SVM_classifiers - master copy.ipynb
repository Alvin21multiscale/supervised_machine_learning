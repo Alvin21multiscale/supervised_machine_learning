{
 "cells": [
  {
   "cell_type": "markdown",
   "metadata": {},
   "source": [
    "# More practices on SVMs for text analysis"
   ]
  },
  {
   "cell_type": "markdown",
   "metadata": {},
   "source": [
    "## Multi-Class classification: English, French, Malay, Spanish"
   ]
  },
  {
   "cell_type": "code",
   "execution_count": 1,
   "metadata": {},
   "outputs": [],
   "source": [
    "train_data = ['Good day to you', 'Bonne journée', 'hari yang baik kepada awak','Que tengas un buen día',\n",
    "              'Comment vous appelez-vous','Qu’est-ce que vous faites,','Sudah lama tidak berjumpa',\n",
    "             'Happy and excited for machine learning','Encantado de conocerte']\n",
    "train_labels = [ 'English', 'French', 'Malay', 'Spanish','French','French','Malay','English','Spanish']\n",
    "\n",
    "test_data = ['hello, I am having a good day','hola estoy teniendo un buen dia','Tolong ulang sekali lagi']\n",
    "test_labels = ['English','Spanish','Malay']"
   ]
  },
  {
   "cell_type": "code",
   "execution_count": 2,
   "metadata": {},
   "outputs": [
    {
     "name": "stdout",
     "output_type": "stream",
     "text": [
      "The accuracy of the model's predictions is 66.7%.\n"
     ]
    },
    {
     "data": {
      "text/html": [
       "<div>\n",
       "<style scoped>\n",
       "    .dataframe tbody tr th:only-of-type {\n",
       "        vertical-align: middle;\n",
       "    }\n",
       "\n",
       "    .dataframe tbody tr th {\n",
       "        vertical-align: top;\n",
       "    }\n",
       "\n",
       "    .dataframe thead th {\n",
       "        text-align: right;\n",
       "    }\n",
       "</style>\n",
       "<table border=\"1\" class=\"dataframe\">\n",
       "  <thead>\n",
       "    <tr style=\"text-align: right;\">\n",
       "      <th></th>\n",
       "      <th>Actual Labels</th>\n",
       "      <th>Predicted Labels</th>\n",
       "    </tr>\n",
       "  </thead>\n",
       "  <tbody>\n",
       "    <tr>\n",
       "      <th>0</th>\n",
       "      <td>English</td>\n",
       "      <td>English</td>\n",
       "    </tr>\n",
       "    <tr>\n",
       "      <th>1</th>\n",
       "      <td>Spanish</td>\n",
       "      <td>Spanish</td>\n",
       "    </tr>\n",
       "    <tr>\n",
       "      <th>2</th>\n",
       "      <td>Malay</td>\n",
       "      <td>French</td>\n",
       "    </tr>\n",
       "  </tbody>\n",
       "</table>\n",
       "</div>"
      ],
      "text/plain": [
       "  Actual Labels Predicted Labels\n",
       "0       English          English\n",
       "1       Spanish          Spanish\n",
       "2         Malay           French"
      ]
     },
     "execution_count": 2,
     "metadata": {},
     "output_type": "execute_result"
    }
   ],
   "source": [
    "# import relevant libraries\n",
    "from sklearn.feature_extraction.text import TfidfVectorizer\n",
    "from sklearn.svm import LinearSVC\n",
    "import pandas as pd\n",
    "\n",
    "# Convert strings in training and testing dataset into vector forms\n",
    "vectorizer = TfidfVectorizer()\n",
    "vectorised_train_data = vectorizer.fit_transform(train_data)\n",
    "vectorised_test_data = vectorizer.transform(test_data)\n",
    "\n",
    "# fit(raw_documents[, y]): Learn a vocabulary dictionary of all tokens in the raw documents.\n",
    "\n",
    "# fit_transform(raw_documents[, y]): Learn the vocabulary dictionary and return term-document matrix. \n",
    "#This is equivalent to fit followed by the transform, but more efficiently implemented.\n",
    "\n",
    "# transform(raw_documents): Transform documents to document-term matrix. Extract token counts out of raw text documents \n",
    "#using the vocabulary fitted with fit or the one provided to the constructor.\n",
    "\n",
    "# Training the model \n",
    "classifier = LinearSVC()\n",
    "classifier.fit(vectorised_train_data, train_labels)\n",
    "predict_labels = classifier.predict(vectorised_test_data)\n",
    "\n",
    "# Checking model's accuracy\n",
    "correct, wrong = 0,0\n",
    "for i in range(len(predict_labels)):\n",
    "    if predict_labels[i] == test_labels[i]:\n",
    "        correct += 1\n",
    "    else:\n",
    "        wrong += 1\n",
    "percent =  (correct/len(predict_labels)) * 100\n",
    "percent = round(percent,1)\n",
    "print('''The accuracy of the model's predictions is ''' + str(percent) + '%.' )\n",
    "\n",
    "# Plotting results in table format\n",
    "new_table = pd.DataFrame()\n",
    "new_table ['Actual Labels'] = test_labels\n",
    "new_table ['Predicted Labels'] = predict_labels\n",
    "new_table"
   ]
  },
  {
   "cell_type": "markdown",
   "metadata": {},
   "source": [
    "## Multi-label classification: Sports, Health, Technology"
   ]
  },
  {
   "cell_type": "code",
   "execution_count": 3,
   "metadata": {},
   "outputs": [],
   "source": [
    "train_data = ['Expired drugs may remain effective, safe to use in a pinch',\n",
    "             'Di Maria and Mbappe star as PSG win big again','England beat West Indies by six wickets in first ODI',\n",
    "             'MOH requests review of S$100,000 fine on orthopaedic surgeon','Google fails to disclose microphone in Nest Secure',\n",
    "              'Is AI the future of all industries?','Juventus failed to score against Altetico Madrid', \n",
    "              'Advanced neural network for image and video processing']\n",
    "train_labels = [['Health'],['Sports'],['Sports'],['Health'],['Technology'],['Technology'],['Sports'],['Technology']]\n",
    "\n",
    "test_data = ['Climate change could raise risk of congenital heart defects'\n",
    "              ,'Rugby World Cup aides recovery in tsunami-damaged Kamaishi']\n",
    "test_labels = [['Health'],['Sports']]"
   ]
  },
  {
   "cell_type": "code",
   "execution_count": 4,
   "metadata": {},
   "outputs": [
    {
     "name": "stdout",
     "output_type": "stream",
     "text": [
      "[nltk_data] Downloading package stopwords to\n",
      "[nltk_data]     C:\\Users\\Alvin\\AppData\\Roaming\\nltk_data...\n",
      "[nltk_data]   Package stopwords is already up-to-date!\n"
     ]
    },
    {
     "data": {
      "text/html": [
       "<div>\n",
       "<style scoped>\n",
       "    .dataframe tbody tr th:only-of-type {\n",
       "        vertical-align: middle;\n",
       "    }\n",
       "\n",
       "    .dataframe tbody tr th {\n",
       "        vertical-align: top;\n",
       "    }\n",
       "\n",
       "    .dataframe thead th {\n",
       "        text-align: right;\n",
       "    }\n",
       "</style>\n",
       "<table border=\"1\" class=\"dataframe\">\n",
       "  <thead>\n",
       "    <tr style=\"text-align: right;\">\n",
       "      <th></th>\n",
       "      <th>Actual Labels (binary form)</th>\n",
       "      <th>Predicted Labels (binary form)</th>\n",
       "    </tr>\n",
       "  </thead>\n",
       "  <tbody>\n",
       "    <tr>\n",
       "      <th>0</th>\n",
       "      <td>[1, 0, 0]</td>\n",
       "      <td>[0, 0, 0]</td>\n",
       "    </tr>\n",
       "    <tr>\n",
       "      <th>1</th>\n",
       "      <td>[0, 1, 0]</td>\n",
       "      <td>[0, 0, 0]</td>\n",
       "    </tr>\n",
       "  </tbody>\n",
       "</table>\n",
       "</div>"
      ],
      "text/plain": [
       "  Actual Labels (binary form) Predicted Labels (binary form)\n",
       "0                   [1, 0, 0]                      [0, 0, 0]\n",
       "1                   [0, 1, 0]                      [0, 0, 0]"
      ]
     },
     "execution_count": 4,
     "metadata": {},
     "output_type": "execute_result"
    }
   ],
   "source": [
    "# import relevant libraries\n",
    "import nltk\n",
    "import pandas as pd\n",
    "from nltk.corpus import stopwords\n",
    "from sklearn.preprocessing import MultiLabelBinarizer\n",
    "from sklearn.feature_extraction.text import TfidfVectorizer\n",
    "from sklearn.multiclass import OneVsRestClassifier\n",
    "from sklearn.svm import LinearSVC\n",
    "classifier = OneVsRestClassifier(LinearSVC())\n",
    "\n",
    "nltk.download('stopwords')\n",
    "stop_words = stopwords.words('english')\n",
    "\n",
    "# Convert strings in training and testing dataset into vector forms\n",
    "vectorizer = TfidfVectorizer(stop_words=stop_words)\n",
    "train_data_vectorized = vectorizer.fit_transform(train_data)\n",
    "test_data_vectorized = vectorizer.transform(test_data)\n",
    "\n",
    "# fit(raw_documents[, y]): Learn a vocabulary dictionary of all tokens in the raw documents.\n",
    "\n",
    "# fit_transform(raw_documents[, y]): Learn the vocabulary dictionary and return term-document matrix. \n",
    "#This is equivalent to fit followed by the transform, but more efficiently implemented.\n",
    "\n",
    "# transform(raw_documents): Transform documents to document-term matrix. Extract token counts out of raw text documents \n",
    "#using the vocabulary fitted with fit or the one provided to the constructor.\n",
    "\n",
    "# Convert labels in training and testing dataset into binary forms\n",
    "mlb = MultiLabelBinarizer()\n",
    "train_labels_binary = mlb.fit_transform(train_labels)\n",
    "test_labels_binary = mlb.transform(test_labels)\n",
    "test_labels_list = [item for item in test_labels_binary]\n",
    "\n",
    "# mlb.fit_transform(y) - Fit the label sets binarizer and transform the given label sets\n",
    "# mlb.transform(y) - Transform the given label sets\n",
    "\n",
    "# Model training\n",
    "classifier.fit(train_data_vectorized, train_labels_binary)\n",
    "pred_labels = classifier.predict(test_data_vectorized)\n",
    "pred_labels_list = [item for item in pred_labels]\n",
    "\n",
    "# Plotting results in table format\n",
    "new_table = pd.DataFrame()\n",
    "new_table ['Actual Labels (binary form)'] = test_labels_list\n",
    "new_table ['Predicted Labels (binary form)'] = pred_labels_list\n",
    "new_table"
   ]
  },
  {
   "cell_type": "code",
   "execution_count": 5,
   "metadata": {},
   "outputs": [
    {
     "name": "stdout",
     "output_type": "stream",
     "text": [
      "The accuracy of the model's predictions is 0.0%.\n"
     ]
    },
    {
     "name": "stderr",
     "output_type": "stream",
     "text": [
      "C:\\Users\\Alvin\\Anaconda3\\lib\\site-packages\\sklearn\\utils\\validation.py:578: DataConversionWarning: A column-vector y was passed when a 1d array was expected. Please change the shape of y to (n_samples, ), for example using ravel().\n",
      "  y = column_or_1d(y, warn=True)\n"
     ]
    },
    {
     "data": {
      "text/html": [
       "<div>\n",
       "<style scoped>\n",
       "    .dataframe tbody tr th:only-of-type {\n",
       "        vertical-align: middle;\n",
       "    }\n",
       "\n",
       "    .dataframe tbody tr th {\n",
       "        vertical-align: top;\n",
       "    }\n",
       "\n",
       "    .dataframe thead th {\n",
       "        text-align: right;\n",
       "    }\n",
       "</style>\n",
       "<table border=\"1\" class=\"dataframe\">\n",
       "  <thead>\n",
       "    <tr style=\"text-align: right;\">\n",
       "      <th></th>\n",
       "      <th>Actual Labels</th>\n",
       "      <th>Predicted Labels</th>\n",
       "    </tr>\n",
       "  </thead>\n",
       "  <tbody>\n",
       "    <tr>\n",
       "      <th>0</th>\n",
       "      <td>[Health]</td>\n",
       "      <td>Sports</td>\n",
       "    </tr>\n",
       "    <tr>\n",
       "      <th>1</th>\n",
       "      <td>[Sports]</td>\n",
       "      <td>Sports</td>\n",
       "    </tr>\n",
       "  </tbody>\n",
       "</table>\n",
       "</div>"
      ],
      "text/plain": [
       "  Actual Labels Predicted Labels\n",
       "0      [Health]           Sports\n",
       "1      [Sports]           Sports"
      ]
     },
     "execution_count": 5,
     "metadata": {},
     "output_type": "execute_result"
    }
   ],
   "source": [
    "# Now use the first method from the multi-class classification:)\n",
    "\n",
    "# Training the model \n",
    "classifier = LinearSVC()\n",
    "classifier.fit(train_data_vectorized, train_labels)\n",
    "predict_labels = classifier.predict(test_data_vectorized)\n",
    "\n",
    "# Checking model's accuracy\n",
    "correct, wrong = 0,0\n",
    "for i in range(len(predict_labels)):\n",
    "    if predict_labels[i] == test_labels[i]:\n",
    "        correct += 1\n",
    "    else:\n",
    "        wrong += 1\n",
    "percent =  (correct/len(predict_labels)) * 100\n",
    "percent = round(percent,1)\n",
    "print('''The accuracy of the model's predictions is ''' + str(percent) + '%.' )\n",
    "\n",
    "# Plotting results in table format\n",
    "new_table = pd.DataFrame()\n",
    "new_table ['Actual Labels'] = test_labels\n",
    "new_table ['Predicted Labels'] = predict_labels\n",
    "new_table"
   ]
  }
 ],
 "metadata": {
  "kernelspec": {
   "display_name": "Python 3",
   "language": "python",
   "name": "python3"
  },
  "language_info": {
   "codemirror_mode": {
    "name": "ipython",
    "version": 3
   },
   "file_extension": ".py",
   "mimetype": "text/x-python",
   "name": "python",
   "nbconvert_exporter": "python",
   "pygments_lexer": "ipython3",
   "version": "3.6.5"
  }
 },
 "nbformat": 4,
 "nbformat_minor": 2
}
