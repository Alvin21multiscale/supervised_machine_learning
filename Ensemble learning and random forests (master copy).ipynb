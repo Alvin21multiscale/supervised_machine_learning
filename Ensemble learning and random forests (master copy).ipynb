{
 "cells": [
  {
   "cell_type": "markdown",
   "metadata": {},
   "source": [
    "# Ensemble learning and random forests (1 Mar 2019)"
   ]
  },
  {
   "cell_type": "markdown",
   "metadata": {},
   "source": [
    "1. Introduction\n",
    "\n",
    "    * A group of predictors is called as ensemble. Eg) logistic regression + voting classifier + random forest classifier\n",
    "    * Random forest is a group of decision tree classifiers\n",
    "    * Types of ensemble methods:\n",
    "        * voting classifier\n",
    "        * bagging and pasting\n",
    "        * boosting (Adaboost, Gradient boosting)\n",
    "        * random forest\n",
    "        \n",
    "\n",
    "2. Advantages of Ensemble Learning\n",
    "\n",
    "\n",
    "\n",
    "3. Disadvantages of Ensemble Learning\n",
    "    "
   ]
  },
  {
   "cell_type": "markdown",
   "metadata": {},
   "source": [
    "### a. Voting Classifiers"
   ]
  },
  {
   "cell_type": "code",
   "execution_count": 1,
   "metadata": {},
   "outputs": [],
   "source": [
    "# importing the required libraries\n",
    "import pandas as pd\n",
    "import numpy as np\n",
    "import matplotlib.pyplot as plt\n",
    "from sklearn.model_selection import train_test_split\n",
    "from sklearn.metrics import accuracy_score\n",
    "from sklearn.datasets import make_moons\n",
    "from sklearn.svm import SVC\n",
    "from sklearn.linear_model import LogisticRegression\n",
    "from sklearn.ensemble import RandomForestClassifier\n",
    "from sklearn.ensemble import VotingClassifier\n",
    "\n",
    "# define respective models\n",
    "logistic_model = LogisticRegression()\n",
    "rf_model = RandomForestClassifier()\n",
    "svm_model = SVC()"
   ]
  },
  {
   "cell_type": "code",
   "execution_count": 2,
   "metadata": {},
   "outputs": [
    {
     "name": "stdout",
     "output_type": "stream",
     "text": [
      "#1:LogisticRegression 0.4895\n",
      "#1:RandomForestClassifier 0.508\n",
      "#1:SVC 0.4855\n"
     ]
    },
    {
     "name": "stderr",
     "output_type": "stream",
     "text": [
      "C:\\Users\\Alvin\\Anaconda3\\lib\\site-packages\\sklearn\\preprocessing\\label.py:151: DeprecationWarning: The truth value of an empty array is ambiguous. Returning False, but in future this will result in an error. Use `array.size > 0` to check that an array is not empty.\n",
      "  if diff:\n"
     ]
    },
    {
     "name": "stdout",
     "output_type": "stream",
     "text": [
      "#1:VotingClassifier 0.485\n",
      "#2:LogisticRegression 0.495\n",
      "#2:RandomForestClassifier 0.4845\n",
      "#2:SVC 0.4835\n"
     ]
    },
    {
     "name": "stderr",
     "output_type": "stream",
     "text": [
      "C:\\Users\\Alvin\\Anaconda3\\lib\\site-packages\\sklearn\\preprocessing\\label.py:151: DeprecationWarning: The truth value of an empty array is ambiguous. Returning False, but in future this will result in an error. Use `array.size > 0` to check that an array is not empty.\n",
      "  if diff:\n"
     ]
    },
    {
     "name": "stdout",
     "output_type": "stream",
     "text": [
      "#2:VotingClassifier 0.496\n",
      "#3:LogisticRegression 0.4855\n",
      "#3:RandomForestClassifier 0.4985\n",
      "#3:SVC 0.5075\n"
     ]
    },
    {
     "name": "stderr",
     "output_type": "stream",
     "text": [
      "C:\\Users\\Alvin\\Anaconda3\\lib\\site-packages\\sklearn\\preprocessing\\label.py:151: DeprecationWarning: The truth value of an empty array is ambiguous. Returning False, but in future this will result in an error. Use `array.size > 0` to check that an array is not empty.\n",
      "  if diff:\n"
     ]
    },
    {
     "name": "stdout",
     "output_type": "stream",
     "text": [
      "#3:VotingClassifier 0.494\n",
      "#4:LogisticRegression 0.486\n",
      "#4:RandomForestClassifier 0.5025\n",
      "#4:SVC 0.5005\n"
     ]
    },
    {
     "name": "stderr",
     "output_type": "stream",
     "text": [
      "C:\\Users\\Alvin\\Anaconda3\\lib\\site-packages\\sklearn\\preprocessing\\label.py:151: DeprecationWarning: The truth value of an empty array is ambiguous. Returning False, but in future this will result in an error. Use `array.size > 0` to check that an array is not empty.\n",
      "  if diff:\n"
     ]
    },
    {
     "name": "stdout",
     "output_type": "stream",
     "text": [
      "#4:VotingClassifier 0.4995\n",
      "#5:LogisticRegression 0.4965\n",
      "#5:RandomForestClassifier 0.498\n",
      "#5:SVC 0.497\n"
     ]
    },
    {
     "name": "stderr",
     "output_type": "stream",
     "text": [
      "C:\\Users\\Alvin\\Anaconda3\\lib\\site-packages\\sklearn\\preprocessing\\label.py:151: DeprecationWarning: The truth value of an empty array is ambiguous. Returning False, but in future this will result in an error. Use `array.size > 0` to check that an array is not empty.\n",
      "  if diff:\n"
     ]
    },
    {
     "name": "stdout",
     "output_type": "stream",
     "text": [
      "#5:VotingClassifier 0.494\n",
      "#6:LogisticRegression 0.4805\n",
      "#6:RandomForestClassifier 0.5095\n",
      "#6:SVC 0.492\n"
     ]
    },
    {
     "name": "stderr",
     "output_type": "stream",
     "text": [
      "C:\\Users\\Alvin\\Anaconda3\\lib\\site-packages\\sklearn\\preprocessing\\label.py:151: DeprecationWarning: The truth value of an empty array is ambiguous. Returning False, but in future this will result in an error. Use `array.size > 0` to check that an array is not empty.\n",
      "  if diff:\n"
     ]
    },
    {
     "name": "stdout",
     "output_type": "stream",
     "text": [
      "#6:VotingClassifier 0.479\n",
      "#7:LogisticRegression 0.4985\n",
      "#7:RandomForestClassifier 0.497\n",
      "#7:SVC 0.4985\n"
     ]
    },
    {
     "name": "stderr",
     "output_type": "stream",
     "text": [
      "C:\\Users\\Alvin\\Anaconda3\\lib\\site-packages\\sklearn\\preprocessing\\label.py:151: DeprecationWarning: The truth value of an empty array is ambiguous. Returning False, but in future this will result in an error. Use `array.size > 0` to check that an array is not empty.\n",
      "  if diff:\n"
     ]
    },
    {
     "name": "stdout",
     "output_type": "stream",
     "text": [
      "#7:VotingClassifier 0.491\n",
      "#8:LogisticRegression 0.5185\n",
      "#8:RandomForestClassifier 0.491\n",
      "#8:SVC 0.512\n"
     ]
    },
    {
     "name": "stderr",
     "output_type": "stream",
     "text": [
      "C:\\Users\\Alvin\\Anaconda3\\lib\\site-packages\\sklearn\\preprocessing\\label.py:151: DeprecationWarning: The truth value of an empty array is ambiguous. Returning False, but in future this will result in an error. Use `array.size > 0` to check that an array is not empty.\n",
      "  if diff:\n"
     ]
    },
    {
     "name": "stdout",
     "output_type": "stream",
     "text": [
      "#8:VotingClassifier 0.508\n",
      "#9:LogisticRegression 0.494\n",
      "#9:RandomForestClassifier 0.491\n",
      "#9:SVC 0.5005\n"
     ]
    },
    {
     "name": "stderr",
     "output_type": "stream",
     "text": [
      "C:\\Users\\Alvin\\Anaconda3\\lib\\site-packages\\sklearn\\preprocessing\\label.py:151: DeprecationWarning: The truth value of an empty array is ambiguous. Returning False, but in future this will result in an error. Use `array.size > 0` to check that an array is not empty.\n",
      "  if diff:\n"
     ]
    },
    {
     "name": "stdout",
     "output_type": "stream",
     "text": [
      "#9:VotingClassifier 0.491\n",
      "#10:LogisticRegression 0.485\n",
      "#10:RandomForestClassifier 0.5005\n",
      "#10:SVC 0.484\n",
      "#10:VotingClassifier 0.481\n",
      "[[0.4895, 0.508, 0.4855, 0.485], [0.495, 0.4845, 0.4835, 0.496], [0.4855, 0.4985, 0.5075, 0.494], [0.486, 0.5025, 0.5005, 0.4995], [0.4965, 0.498, 0.497, 0.494], [0.4805, 0.5095, 0.492, 0.479], [0.4985, 0.497, 0.4985, 0.491], [0.5185, 0.491, 0.512, 0.508], [0.494, 0.491, 0.5005, 0.491], [0.485, 0.5005, 0.484, 0.481]]\n"
     ]
    },
    {
     "name": "stderr",
     "output_type": "stream",
     "text": [
      "C:\\Users\\Alvin\\Anaconda3\\lib\\site-packages\\sklearn\\preprocessing\\label.py:151: DeprecationWarning: The truth value of an empty array is ambiguous. Returning False, but in future this will result in an error. Use `array.size > 0` to check that an array is not empty.\n",
      "  if diff:\n"
     ]
    }
   ],
   "source": [
    "# handling of dataset\n",
    "noise_list = [round((value*0.1),3) for value in range(1,11)]\n",
    "mainlist_accuracy = []\n",
    "counter = 1\n",
    "for value in noise_list:\n",
    "    dataset = make_moons(n_samples=10000, \n",
    "                         shuffle=True, \n",
    "                         noise= value, \n",
    "                         random_state=None)\n",
    "    x_train, x_test = train_test_split(dataset[0], test_size = 0.2)\n",
    "    y_train, y_test = train_test_split(dataset[1], test_size = 0.2)\n",
    "    voting_model = VotingClassifier(\n",
    "                estimators = [('log',logistic_model),('rf',rf_model),('svc',svm_model)],\n",
    "                voting = 'hard') # voting can be 'hard' or 'soft' \n",
    "                                 # 'soft' voting predicts the class \n",
    "                                 # with the highest class \n",
    "                                 # probability and averaged over all \n",
    "                                 # individual classifiers\n",
    "                                 # expected to be more accurate than 'hard' voting\n",
    "    sublist_accuracy = []\n",
    "    for model in (logistic_model,rf_model,svm_model,voting_model):\n",
    "        model.fit(x_train,y_train)\n",
    "        y_pred = model.predict(x_test)\n",
    "        value_accuracy = accuracy_score(y_pred,y_test)\n",
    "        print('#' + str(counter) + ':' + model.__class__.__name__,value_accuracy)\n",
    "        sublist_accuracy.append(value_accuracy)\n",
    "    mainlist_accuracy.append(sublist_accuracy)\n",
    "    counter += 1\n",
    "print(mainlist_accuracy)"
   ]
  },
  {
   "cell_type": "markdown",
   "metadata": {},
   "source": [
    "### b. Bagging and Pasting"
   ]
  },
  {
   "cell_type": "markdown",
   "metadata": {},
   "source": [
    "* Objective of bagging and pasting is again to use very different training algorithms. This time, we, however, use the same training algorithm for every predictor but to train them on different random subsets of the training set. \n",
    "\n",
    "* Bagging refers to sampling with replacement, whereas pasting is sampling without replacement.\n",
    "    \n",
    "* Both bagging and pasting allow training instances to be sampled several times across multipple predictors, whereas bagging allows training instances to be sampled several times for the same predictor."
   ]
  },
  {
   "cell_type": "code",
   "execution_count": 3,
   "metadata": {},
   "outputs": [],
   "source": [
    "# importing the required libraries\n",
    "import pandas as pd\n",
    "import numpy as np\n",
    "import matplotlib.pyplot as plt\n",
    "from sklearn.model_selection import train_test_split\n",
    "from sklearn.metrics import accuracy_score\n",
    "from sklearn.datasets import make_moons\n",
    "from sklearn.svm import SVC\n",
    "from sklearn.linear_model import LogisticRegression\n",
    "from sklearn.ensemble import RandomForestClassifier\n",
    "from sklearn.ensemble import BaggingClassifier\n",
    "\n",
    "# define respective models\n",
    "logistic_model = LogisticRegression()\n",
    "rf_model = RandomForestClassifier()\n",
    "svm_model = SVC()\n",
    "bagging_model = BaggingClassifier()"
   ]
  },
  {
   "cell_type": "code",
   "execution_count": 4,
   "metadata": {},
   "outputs": [
    {
     "name": "stdout",
     "output_type": "stream",
     "text": [
      "BaggingClassifier 0.496\n",
      "BaggingClassifier 0.4865\n",
      "BaggingClassifier 0.5145\n",
      "BaggingClassifier 0.4955\n",
      "BaggingClassifier 0.5045\n",
      "BaggingClassifier 0.508\n",
      "BaggingClassifier 0.5025\n",
      "BaggingClassifier 0.504\n",
      "BaggingClassifier 0.527\n",
      "BaggingClassifier 0.511\n",
      "[0.496, 0.4865, 0.5145, 0.4955, 0.5045, 0.508, 0.5025, 0.504, 0.527, 0.511]\n"
     ]
    }
   ],
   "source": [
    "# handling of dataset + model training\n",
    "noise_list = [round((value*0.1),3) for value in range(1,11)]\n",
    "mainlist_accuracy = []\n",
    "for value in noise_list:\n",
    "    dataset = make_moons(n_samples=10000, \n",
    "                         shuffle=True, \n",
    "                         noise= value, \n",
    "                         random_state=None)\n",
    "    x_train, x_test = train_test_split(dataset[0], test_size = 0.2)\n",
    "    y_train, y_test = train_test_split(dataset[1], test_size = 0.2)\n",
    "    bagging_model = BaggingClassifier(logistic_model, \n",
    "                                      n_estimators=10, \n",
    "                                      max_samples=100, \n",
    "                                      bootstrap=True,\n",
    "                                      n_jobs =-1)\n",
    "                                 # n_estimators is the number of the selected models \n",
    "                                 # Eg. logistic regression, \n",
    "                                 # random forest classifier, SVC etc.\n",
    "                                 # bootstrap = True -> set to bagging. \n",
    "                                 # If False, set to pasting\n",
    "    bagging_model.fit(x_train,y_train)\n",
    "    y_pred = bagging_model.predict(x_test)\n",
    "    value_accuracy = accuracy_score(y_pred,y_test)\n",
    "    print(bagging_model.__class__.__name__,value_accuracy)\n",
    "    mainlist_accuracy.append(value_accuracy)\n",
    "print(mainlist_accuracy)"
   ]
  },
  {
   "cell_type": "markdown",
   "metadata": {},
   "source": [
    "### c. Random Forests"
   ]
  },
  {
   "cell_type": "markdown",
   "metadata": {},
   "source": [
    "* Random forest is an ensemble of decision trees. \n",
    "* Random forest is generally trained via the bagging method whereby the max samples is set to the size of the training set."
   ]
  },
  {
   "cell_type": "code",
   "execution_count": 5,
   "metadata": {},
   "outputs": [],
   "source": [
    "# importing the required libraries\n",
    "import pandas as pd\n",
    "import numpy as np\n",
    "import matplotlib.pyplot as plt\n",
    "from sklearn.model_selection import train_test_split\n",
    "from sklearn.metrics import accuracy_score\n",
    "from sklearn.datasets import make_moons\n",
    "from sklearn.ensemble import RandomForestClassifier"
   ]
  },
  {
   "cell_type": "code",
   "execution_count": 6,
   "metadata": {},
   "outputs": [
    {
     "name": "stdout",
     "output_type": "stream",
     "text": [
      "RandomForestClassifier 0.4885\n",
      "RandomForestClassifier 0.5065\n",
      "RandomForestClassifier 0.5015\n",
      "RandomForestClassifier 0.508\n",
      "RandomForestClassifier 0.5\n",
      "RandomForestClassifier 0.494\n",
      "RandomForestClassifier 0.49\n",
      "RandomForestClassifier 0.5005\n",
      "RandomForestClassifier 0.4835\n",
      "RandomForestClassifier 0.498\n",
      "[0.4885, 0.5065, 0.5015, 0.508, 0.5, 0.494, 0.49, 0.5005, 0.4835, 0.498]\n"
     ]
    }
   ],
   "source": [
    "noise_list = [round((value*0.1),3) for value in range(1,11)]\n",
    "mainlist_accuracy = []\n",
    "for value in noise_list:\n",
    "    dataset = make_moons(n_samples=10000, \n",
    "                         shuffle=True, \n",
    "                         noise= value, \n",
    "                         random_state=None)\n",
    "    x_train, x_test = train_test_split(dataset[0], test_size = 0.2)\n",
    "    y_train, y_test = train_test_split(dataset[1], test_size = 0.2)\n",
    "    rf_model = RandomForestClassifier(n_estimators=1000, \n",
    "                                      max_leaf_nodes=32, \n",
    "                                      n_jobs =-1)\n",
    "    rf_model.fit(x_train,y_train)\n",
    "    y_pred = rf_model.predict(x_test)\n",
    "    value_accuracy = accuracy_score(y_pred,y_test)\n",
    "    print(rf_model.__class__.__name__,value_accuracy)\n",
    "    mainlist_accuracy.append(value_accuracy)\n",
    "print(mainlist_accuracy)"
   ]
  },
  {
   "cell_type": "code",
   "execution_count": 7,
   "metadata": {},
   "outputs": [
    {
     "name": "stdout",
     "output_type": "stream",
     "text": [
      "ExtraTreesClassifier 0.4865\n",
      "ExtraTreesClassifier 0.51\n",
      "ExtraTreesClassifier 0.5045\n",
      "ExtraTreesClassifier 0.4965\n",
      "ExtraTreesClassifier 0.5105\n",
      "ExtraTreesClassifier 0.5035\n",
      "ExtraTreesClassifier 0.4895\n",
      "ExtraTreesClassifier 0.506\n",
      "ExtraTreesClassifier 0.4985\n",
      "ExtraTreesClassifier 0.5055\n",
      "[0.4865, 0.51, 0.5045, 0.4965, 0.5105, 0.5035, 0.4895, 0.506, 0.4985, 0.5055]\n"
     ]
    }
   ],
   "source": [
    "# using extra-trees -> likewise trades more bias for a lower variance, trains faster than the \n",
    "# regular random forests\n",
    "from sklearn.ensemble import ExtraTreesClassifier\n",
    "noise_list = [round((value*0.1),3) for value in range(1,11)]\n",
    "mainlist_accuracy = []\n",
    "for value in noise_list:\n",
    "    dataset = make_moons(n_samples=10000, shuffle=True, noise= value, random_state=None)\n",
    "    x_train, x_test = train_test_split(dataset[0], test_size = 0.2)\n",
    "    y_train, y_test = train_test_split(dataset[1], test_size = 0.2)\n",
    "    rf_model = ExtraTreesClassifier(n_estimators=1000, \n",
    "                                      max_leaf_nodes=32, \n",
    "                                      n_jobs =-1)\n",
    "    rf_model.fit(x_train,y_train)\n",
    "    y_pred = rf_model.predict(x_test)\n",
    "    value_accuracy = accuracy_score(y_pred,y_test)\n",
    "    print(rf_model.__class__.__name__,value_accuracy)\n",
    "    mainlist_accuracy.append(value_accuracy)\n",
    "print(mainlist_accuracy)"
   ]
  },
  {
   "cell_type": "markdown",
   "metadata": {},
   "source": [
    "### d. Boosting"
   ]
  },
  {
   "cell_type": "markdown",
   "metadata": {},
   "source": [
    "* An ensemble method which combines several weak learners into a strong learner\n",
    "* Generally, the boosting methods train predictors sequentially by trying to correct its predecessor\n",
    "* Most popular boosting methods are AdaBoost and gradient boosting\n"
   ]
  },
  {
   "cell_type": "markdown",
   "metadata": {},
   "source": [
    "#### d)i) AdaBoost"
   ]
  },
  {
   "cell_type": "markdown",
   "metadata": {},
   "source": [
    "* AdaBoost corrects its predecessor by paying more attention to the training instances that the predecessor underfitted -> results in new predictors by focusing more and more on the hard cases\n",
    "* Building an AdaBoost classifier:\n",
    "    * train the first base classifier (decision tree etc.) and make predictions on the training set\n",
    "    * increase the relative weights of misclassified training instances then train the second classifier using the updated weights and make predictions on the training set again, and update the weights again\n",
    "    * continue the process based on pre-defined iterations"
   ]
  },
  {
   "cell_type": "code",
   "execution_count": 8,
   "metadata": {},
   "outputs": [
    {
     "name": "stdout",
     "output_type": "stream",
     "text": [
      "ExtraTreesClassifier 0.4775\n",
      "ExtraTreesClassifier 0.504\n",
      "ExtraTreesClassifier 0.507\n",
      "ExtraTreesClassifier 0.473\n",
      "ExtraTreesClassifier 0.483\n",
      "ExtraTreesClassifier 0.4675\n",
      "ExtraTreesClassifier 0.495\n",
      "ExtraTreesClassifier 0.5125\n",
      "ExtraTreesClassifier 0.4965\n",
      "ExtraTreesClassifier 0.4765\n",
      "[0.4775, 0.504, 0.507, 0.473, 0.483, 0.4675, 0.495, 0.5125, 0.4965, 0.4765]\n"
     ]
    }
   ],
   "source": [
    "# example of using AdaBoost\n",
    "from sklearn.ensemble import AdaBoostClassifier\n",
    "from sklearn.tree import DecisionTreeClassifier\n",
    "noise_list = [round((value*0.1),3) for value in range(1,11)]\n",
    "mainlist_accuracy = []\n",
    "for value in noise_list:\n",
    "    dataset = make_moons(n_samples=10000, shuffle=True, noise= value, random_state=None)\n",
    "    x_train, x_test = train_test_split(dataset[0], test_size = 0.2)\n",
    "    y_train, y_test = train_test_split(dataset[1], test_size = 0.2)\n",
    "    ada_boost_model = AdaBoostClassifier(DecisionTreeClassifier(max_depth = 2),\n",
    "                                      n_estimators = 1000, \n",
    "                                      algorithm = \"SAMME\",\n",
    "                                      learning_rate = 0.1)\n",
    "                                      # In sklearn, the multiclass version of AdaBoost is called\n",
    "                                      # SAMME (Stagewise Additive Modeling using a Multiclass \n",
    "                                      # Exponential loss Function). Another variant of SAMME is\n",
    "                                      # SAMME.R wherey R stands for \"Real\" which relies on class \n",
    "                                      # class probabilities rather than predictions and may perform\n",
    "                                      # better in some cases\n",
    "    \n",
    "    rf_model.fit(x_train,y_train)\n",
    "    y_pred = rf_model.predict(x_test)\n",
    "    value_accuracy = accuracy_score(y_pred,y_test)\n",
    "    print(rf_model.__class__.__name__,value_accuracy)\n",
    "    mainlist_accuracy.append(value_accuracy)\n",
    "print(mainlist_accuracy)"
   ]
  },
  {
   "cell_type": "markdown",
   "metadata": {},
   "source": [
    "#### d)ii) Gradient boosting"
   ]
  },
  {
   "cell_type": "markdown",
   "metadata": {},
   "source": [
    "* Work in same principle as AdaBoost, with the exception that Gradient boosting attempts to fit the new predictor to the residual erros made by the previous predictor\n",
    "* Most suitable for regression analysis by using Gradient Tree Boosting, or Gradient Boosted Regression Trees (GBRT)"
   ]
  },
  {
   "cell_type": "code",
   "execution_count": 10,
   "metadata": {},
   "outputs": [
    {
     "name": "stdout",
     "output_type": "stream",
     "text": [
      "<_io.TextIOWrapper name='population_ensemble_learning.csv' mode='r' encoding='cp1252'>\n"
     ]
    },
    {
     "name": "stderr",
     "output_type": "stream",
     "text": [
      "C:\\Users\\Alvin\\Anaconda3\\lib\\site-packages\\sklearn\\utils\\validation.py:578: DataConversionWarning: A column-vector y was passed when a 1d array was expected. Please change the shape of y to (n_samples, ), for example using ravel().\n",
      "  y = column_or_1d(y, warn=True)\n"
     ]
    },
    {
     "data": {
      "image/png": "[encoded data removed]",
      "text/plain": [
       "<Figure size 432x288 with 1 Axes>"
      ]
     },
     "metadata": {},
     "output_type": "display_data"
    },
    {
     "name": "stdout",
     "output_type": "stream",
     "text": [
      "The average error for the validation step is 3.43%.\n",
      "The coefficient of determination (r^2) value from the training step 0.984.\n"
     ]
    }
   ],
   "source": [
    "from sklearn.ensemble import GradientBoostingRegressor\n",
    "\n",
    "# importing relevant packages, libraries and classes associated with python\n",
    "import pandas as pd\n",
    "import numpy as np\n",
    "from math import sqrt\n",
    "from sklearn.metrics import r2_score\n",
    "from sklearn.model_selection import train_test_split\n",
    "import matplotlib.pyplot as plt\n",
    "\n",
    "with open('population_ensemble_learning.csv') as f:\n",
    "   print(f)\n",
    "dataset = pd.read_csv('population_ensemble_learning.csv', encoding='cp1252')\n",
    "\n",
    "dummy_index = 0\n",
    "country_name = 'Singapore'\n",
    "for i in range (len(dataset)):\n",
    "    if dataset['Country Name'][i] == country_name:\n",
    "        dummy_index = i\n",
    "\n",
    "start_year = 1960\n",
    "end_year = 2017\n",
    "diff_year = end_year - start_year\n",
    "year_list = []\n",
    "for i in range(diff_year+1):\n",
    "    year = start_year + i\n",
    "    year_list.append(year)\n",
    "\n",
    "data_x = year_list\n",
    "\n",
    "data_y = []\n",
    "for item in data_x:\n",
    "    data_y.append(dataset[str(item)][dummy_index])\n",
    "\n",
    "x_train,x_test,y_train,y_test =  train_test_split(data_x,data_y)\n",
    "\n",
    "x_train = (np.array(x_train))\n",
    "x_train = x_train.reshape(len(x_train),-1)\n",
    "\n",
    "y_train = (np.array(y_train))\n",
    "y_train = y_train.reshape(len(y_train),-1)\n",
    "\n",
    "x_test = (np.array(x_test))\n",
    "x_test = x_test.reshape(len(x_test),-1)\n",
    "\n",
    "y_test = (np.array(y_test))\n",
    "y_test = y_test.reshape(len(y_test),-1)\n",
    "\n",
    "gradient_boost_model = GradientBoostingRegressor(max_depth = 3, n_estimators=200)\n",
    "gradient_boost_model.fit(x_train,y_train)\n",
    "y_pred = gradient_boost_model.predict(x_test)\n",
    "r2_value = r2_score(y_test,y_pred)\n",
    "r2_value = round(r2_value,3)\n",
    "\n",
    "graph1 = plt.plot(x_test,y_test,'o', label = 'World Population' + \" \" + '(predictions)',\n",
    "                  color = 'r')\n",
    "graph2 = plt.plot(x_test,y_pred,'x', label = 'World Population' + \" \"+ '(Raw data)',\n",
    "                  color = 'b')\n",
    "plt.xlabel('Year')\n",
    "plt.ylabel('Population size')\n",
    "plt.title('Model validation')\n",
    "# plt.grid(color='r', linestyle='', linewidth=2)\n",
    "legend = plt.legend()\n",
    "leg_lines = legend.get_lines()\n",
    "leg_texts = legend.get_texts()\n",
    "plt.setp(leg_lines, linewidth=2.0)\n",
    "plt.show()\n",
    "\n",
    "total_error = 0\n",
    "avg_error = 0\n",
    "for i in range(len(y_pred)):\n",
    "    total_error += (abs(y_pred[i]-y_test[i])/min(y_pred[i],y_test[i]))\n",
    "avg_error = (total_error/len(y_pred)) * 100\n",
    "print('The average error for the validation step is ' + str(round(float(avg_error),2)) \\\n",
    "      + '%' + '.')\n",
    "print('The coefficient of determination (r^2) value from the training step ' \\\n",
    "      + str(r2_value) + '.')"
   ]
  }
 ],
 "metadata": {
  "kernelspec": {
   "display_name": "Python 3",
   "language": "python",
   "name": "python3"
  },
  "language_info": {
   "codemirror_mode": {
    "name": "ipython",
    "version": 3
   },
   "file_extension": ".py",
   "mimetype": "text/x-python",
   "name": "python",
   "nbconvert_exporter": "python",
   "pygments_lexer": "ipython3",
   "version": "3.6.5"
  }
 },
 "nbformat": 4,
 "nbformat_minor": 2
}
