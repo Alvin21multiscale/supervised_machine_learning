{
 "cells": [
  {
   "cell_type": "markdown",
   "metadata": {},
   "source": [
    "# Nonlinear SVM Classification"
   ]
  },
  {
   "cell_type": "code",
   "execution_count": 1,
   "metadata": {},
   "outputs": [],
   "source": [
    "# importing the required libraries\n",
    "import pandas as pd\n",
    "import numpy as np\n",
    "import random\n",
    "import matplotlib.pyplot as plt\n",
    "from sklearn.metrics import mean_squared_error\n",
    "from math import sqrt\n",
    "from sklearn.datasets import make_moons\n",
    "from sklearn.pipeline import Pipeline\n",
    "from sklearn.preprocessing import StandardScaler, PolynomialFeatures\n",
    "from sklearn.svm import LinearSVC\n",
    "\n",
    "# define model for use later\n",
    "svm_class_poly = Pipeline([(\"poly_features\",PolynomialFeatures(degree=2)),\n",
    "                           (\"scaler\",StandardScaler()),\n",
    "                           (\"svm_svc\", LinearSVC(C=10, loss=\"hinge\")),])\n",
    "# C controls the balance between the width of the street and margin violations\n",
    "# svm_class_linear = LinearSVC(random_state=0, tol=1e-5)"
   ]
  },
  {
   "cell_type": "code",
   "execution_count": 2,
   "metadata": {},
   "outputs": [],
   "source": [
    "# loading in digits data\n",
    "dataset = make_moons()\n",
    "max_length = len(dataset[0])"
   ]
  },
  {
   "cell_type": "code",
   "execution_count": 3,
   "metadata": {},
   "outputs": [],
   "source": [
    "# training and validation dataset\n",
    "# dummy_value = random.random() # generate a random number of between 0.0 and 1.0\n",
    "# print(round(dummy_value,3))\n",
    "dummy_value = 0.7\n",
    "dummy_pos = int(dummy_value*max_length)\n",
    "diff = max_length - dummy_pos\n",
    "\n",
    "X_train = []\n",
    "y_train = []\n",
    "X_test = []\n",
    "y_test = []\n",
    "\n",
    "# training dataset\n",
    "for i in range(dummy_pos):\n",
    "    X_train.append(dataset[0][i])\n",
    "    y_train.append(dataset[1][i])\n",
    "\n",
    "# validation dataset\n",
    "for i in range(diff):\n",
    "    X_test.append(dataset[0][i+dummy_pos])\n",
    "    y_test.append(dataset[1][i+dummy_pos])\n"
   ]
  },
  {
   "cell_type": "code",
   "execution_count": 7,
   "metadata": {},
   "outputs": [
    {
     "name": "stdout",
     "output_type": "stream",
     "text": [
      "The number of matching ones is 25.\n",
      "The number of non-matching ones is 5.\n",
      "Average model accuracy is 83.3%.\n"
     ]
    }
   ],
   "source": [
    "# model training\n",
    "result1 = svm_class_poly.fit(X_train,y_train)\n",
    "\n",
    "# model validation\n",
    "y_predict = result1.predict(X_test)\n",
    "y_test = np.array(y_test)\n",
    "y_test = y_test.reshape(len(y_test),-1)\n",
    "y_predict = np.array(y_predict)\n",
    "y_predict = y_predict.reshape(len(y_predict),-1)\n",
    "\n",
    "correct = 0\n",
    "wrong = 0\n",
    "for i in range(len(y_test)):\n",
    "    if y_test[i] == y_predict[i]:\n",
    "        correct += 1\n",
    "    else:\n",
    "        wrong += 1\n",
    "print('The number of matching ones is ' + str(correct) + '.')\n",
    "print('The number of non-matching ones is ' + str(wrong) + '.')\n",
    "accuracy = (correct/(len(y_test))) * 100\n",
    "print('Average model accuracy is ' + str(round(accuracy,1)) + '%' + '.')"
   ]
  }
 ],
 "metadata": {
  "kernelspec": {
   "display_name": "Python 3",
   "language": "python",
   "name": "python3"
  },
  "language_info": {
   "codemirror_mode": {
    "name": "ipython",
    "version": 3
   },
   "file_extension": ".py",
   "mimetype": "text/x-python",
   "name": "python",
   "nbconvert_exporter": "python",
   "pygments_lexer": "ipython3",
   "version": "3.6.5"
  }
 },
 "nbformat": 4,
 "nbformat_minor": 2
}
