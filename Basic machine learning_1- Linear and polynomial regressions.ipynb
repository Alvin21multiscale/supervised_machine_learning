{
 "cells": [
  {
   "cell_type": "markdown",
   "metadata": {},
   "source": [
    "# Basic machine learning_1: Linear and polynomial regressions"
   ]
  },
  {
   "cell_type": "code",
   "execution_count": null,
   "metadata": {},
   "outputs": [],
   "source": [
    "# importing relevant packages and libraries associated with python\n",
    "import pandas as pd\n",
    "import numpy as np\n",
    "import matplotlib.pyplot as plt\n",
    "import random \n",
    "from sklearn.metrics import mean_squared_error\n",
    "from math import sqrt\n",
    "from sklearn.linear_model import LinearRegression\n",
    "from sklearn.model_selection import train_test_split\n",
    "from sklearn.preprocessing import PolynomialFeatures\n",
    "from sklearn.metrics import r2_score\n",
    "\n",
    "# creating arbitrary dataset using sine function\n",
    "list_size = random.randint(10,100)\n",
    "x_values = [item for item in range(1,list_size)] # random values for x\n",
    "y_values = np.sin(x_values) # sine values for random values of x\n",
    "print(x_values)\n",
    "print('')\n",
    "print(y_values)\n",
    "\n",
    "# splitting raw dataset into training and validation dataset\n",
    "x_train, x_validate, y_train, y_validate = train_test_split(x_values,\n",
    "                                                            y_values,\n",
    "                                                            test_size = 0.2,\n",
    "                                                            random_state = None)\n",
    "\n",
    "# converting training and validation dataset into numpy arrays, and reshaping\n",
    "x_train = (np.array(x_train)).reshape(len(x_train),-1)\n",
    "y_train = (np.array(y_train)).reshape(len(y_train),-1)\n",
    "x_validate = (np.array(x_validate)).reshape(len(x_validate),-1)\n",
    "y_validate = (np.array(y_validate)).reshape(len(y_validate),-1)\n",
    "\n",
    "# creating regression models from degree orderings of 1 to 9\n",
    "model = LinearRegression()\n",
    "r2_value_list, mse_list = list(), list() # creating empty lists for coefficient of determination and mean squared error\n",
    "                                         # parameters\n",
    "for num in range(1,10): # setting up loop to test different degree of orderings\n",
    "    poly_model = PolynomialFeatures(degree=num, include_bias=False)\n",
    "    \n",
    "    # model training with different degrees\n",
    "    X_poly_train = poly_model.fit_transform(x_train)\n",
    "    model_train = model.fit(X_poly_train,y_train)\n",
    "    \n",
    "    # model validation for different degrees\n",
    "    X_poly_validate = poly_model.fit_transform(x_validate)\n",
    "    y_pred = model_train.predict(X_poly_validate)\n",
    "    \n",
    "    # compute coefficient of determination and mean squared error values between predicted and actual y values\n",
    "    r2_value_compute = round(r2_score(y_pred,y_validate))\n",
    "    r2_value_list.append(r2_value_compute)\n",
    "    mse_compute = round(sqrt(mean_squared_error(y_pred,y_validate)),3)\n",
    "    mse_list.append(mse_compute)\n",
    "\n",
    "# create dataframe to visualize r2 score and mse values for each ordering of degree\n",
    "table_results = pd.DataFrame(columns=['degree of ordering','r2_score','MSE value'])\n",
    "table_results['degree of ordering'] = [num for num in range(1,10)]\n",
    "table_results['r2_score'] = (r2_value_list)\n",
    "table_results['MSE value'] = (mse_list)\n",
    "table_results # BEWARE OF THE HIGH MSE VALUES & POOR r2_SCORES (due to low correlation between the random values)"
   ]
  }
 ],
 "metadata": {
  "kernelspec": {
   "display_name": "Python 3",
   "language": "python",
   "name": "python3"
  },
  "language_info": {
   "codemirror_mode": {
    "name": "ipython",
    "version": 3
   },
   "file_extension": ".py",
   "mimetype": "text/x-python",
   "name": "python",
   "nbconvert_exporter": "python",
   "pygments_lexer": "ipython3",
   "version": "3.7.1"
  }
 },
 "nbformat": 4,
 "nbformat_minor": 2
}
